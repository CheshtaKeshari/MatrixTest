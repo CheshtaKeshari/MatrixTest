{
  "nbformat": 4,
  "nbformat_minor": 0,
  "metadata": {
    "colab": {
      "name": "Stock Price Prediction.ipynb",
      "provenance": [],
      "authorship_tag": "ABX9TyO43nk8O6scd0gG4VW7gPRz",
      "include_colab_link": true
    },
    "kernelspec": {
      "name": "python3",
      "display_name": "Python 3"
    }
  },
  "cells": [
    {
      "cell_type": "markdown",
      "metadata": {
        "id": "view-in-github",
        "colab_type": "text"
      },
      "source": [
        "<a href=\"https://colab.research.google.com/github/CheshtaKeshari/MatrixTest/blob/master/Stock_Price_Prediction.ipynb\" target=\"_parent\"><img src=\"https://colab.research.google.com/assets/colab-badge.svg\" alt=\"Open In Colab\"/></a>"
      ]
    },
    {
      "cell_type": "code",
      "metadata": {
        "id": "R_ooQzoDrQOo"
      },
      "source": [
        "import numpy as np\n",
        "import pandas as pd\n",
        "import matplotlib.pyplot as plt\n",
        "import warnings  \n",
        "warnings.filterwarnings('ignore')\n",
        "from keras.models import Sequential\n",
        "from keras.layers import Dense\n",
        "from keras.layers import LSTM\n",
        "from keras.layers import SimpleRNN\n",
        "from keras.layers import Dropout"
      ],
      "execution_count": 86,
      "outputs": []
    },
    {
      "cell_type": "code",
      "metadata": {
        "id": "oxI8M3sa2LtC"
      },
      "source": [
        "dataset_train = pd.read_csv(\"Google_Stock_Price_Train.csv\")\n",
        "training_set = dataset_train.iloc[:, 1:2].values"
      ],
      "execution_count": 62,
      "outputs": []
    },
    {
      "cell_type": "code",
      "metadata": {
        "id": "cB8IQD3mAXEa"
      },
      "source": [
        "from sklearn.preprocessing import MinMaxScaler\n",
        "sc = MinMaxScaler(feature_range = (0, 1))\n",
        "training_set_scaled = sc.fit_transform(training_set)"
      ],
      "execution_count": 63,
      "outputs": []
    },
    {
      "cell_type": "code",
      "metadata": {
        "id": "K4pMzE1ZAdLM"
      },
      "source": [
        "X_train = []\n",
        "y_train = []\n",
        "for i in range(60, 1258):\n",
        "    X_train.append(training_set_scaled[i-60:i, 0])\n",
        "    y_train.append(training_set_scaled[i, 0])\n",
        "X_train, y_train = np.array(X_train), np.array(y_train)"
      ],
      "execution_count": 64,
      "outputs": []
    },
    {
      "cell_type": "code",
      "metadata": {
        "id": "805xCvjqAiDR"
      },
      "source": [
        "X_train = np.reshape(X_train, (X_train.shape[0], X_train.shape[1], 1))"
      ],
      "execution_count": null,
      "outputs": []
    },
    {
      "cell_type": "code",
      "metadata": {
        "id": "miyZRAJVAlvN"
      },
      "source": [
        "regressor = Sequential()"
      ],
      "execution_count": 66,
      "outputs": []
    },
    {
      "cell_type": "code",
      "metadata": {
        "id": "2FiUgJ-xAqLG"
      },
      "source": [
        "regressor.add(LSTM(units = 50, return_sequences = True, input_shape = (X_train.shape[1], 1)))\n",
        "regressor.add(Dropout(0.2))"
      ],
      "execution_count": 67,
      "outputs": []
    },
    {
      "cell_type": "code",
      "metadata": {
        "id": "duYu0pykAr9g"
      },
      "source": [
        "regressor.add(LSTM(units = 50, return_sequences = True))\n",
        "regressor.add(Dropout(0.2))"
      ],
      "execution_count": 68,
      "outputs": []
    },
    {
      "cell_type": "code",
      "metadata": {
        "id": "DQTLV-2xAw_S"
      },
      "source": [
        "regressor.add(LSTM(units = 50, return_sequences = True))\n",
        "regressor.add(Dropout(0.2))"
      ],
      "execution_count": 69,
      "outputs": []
    },
    {
      "cell_type": "code",
      "metadata": {
        "id": "kPuLdyelAzzC"
      },
      "source": [
        "regressor.add(LSTM(units = 50))\n",
        "regressor.add(Dropout(0.2))"
      ],
      "execution_count": 70,
      "outputs": []
    },
    {
      "cell_type": "code",
      "metadata": {
        "id": "R5sMEZUmA8xU"
      },
      "source": [
        "regressor.add(Dense(units = 1))"
      ],
      "execution_count": 71,
      "outputs": []
    },
    {
      "cell_type": "code",
      "metadata": {
        "id": "RGfNX3uEBALl"
      },
      "source": [
        "regressor.compile(optimizer = 'adam', loss = 'mean_squared_error')"
      ],
      "execution_count": 72,
      "outputs": []
    },
    {
      "cell_type": "code",
      "metadata": {
        "id": "HkFjOFVlBDfX",
        "outputId": "231fc619-fbdb-4ee7-ae26-38f4d273283c",
        "colab": {
          "base_uri": "https://localhost:8080/",
          "height": 1000
        }
      },
      "source": [
        "regressor.fit(X_train, y_train, epochs = 100, batch_size = 32)"
      ],
      "execution_count": 73,
      "outputs": [
        {
          "output_type": "stream",
          "text": [
            "Epoch 1/100\n",
            "38/38 [==============================] - 4s 104ms/step - loss: 0.0360\n",
            "Epoch 2/100\n",
            "38/38 [==============================] - 4s 105ms/step - loss: 0.0062\n",
            "Epoch 3/100\n",
            "38/38 [==============================] - 4s 106ms/step - loss: 0.0060\n",
            "Epoch 4/100\n",
            "38/38 [==============================] - 4s 106ms/step - loss: 0.0059\n",
            "Epoch 5/100\n",
            "38/38 [==============================] - 4s 107ms/step - loss: 0.0056\n",
            "Epoch 6/100\n",
            "38/38 [==============================] - 4s 107ms/step - loss: 0.0050\n",
            "Epoch 7/100\n",
            "38/38 [==============================] - 4s 105ms/step - loss: 0.0045\n",
            "Epoch 8/100\n",
            "38/38 [==============================] - 4s 105ms/step - loss: 0.0044\n",
            "Epoch 9/100\n",
            "38/38 [==============================] - 4s 107ms/step - loss: 0.0048\n",
            "Epoch 10/100\n",
            "38/38 [==============================] - 4s 107ms/step - loss: 0.0052\n",
            "Epoch 11/100\n",
            "38/38 [==============================] - 4s 107ms/step - loss: 0.0046\n",
            "Epoch 12/100\n",
            "38/38 [==============================] - 4s 105ms/step - loss: 0.0040\n",
            "Epoch 13/100\n",
            "38/38 [==============================] - 4s 106ms/step - loss: 0.0041\n",
            "Epoch 14/100\n",
            "38/38 [==============================] - 4s 106ms/step - loss: 0.0045\n",
            "Epoch 15/100\n",
            "38/38 [==============================] - 4s 107ms/step - loss: 0.0042\n",
            "Epoch 16/100\n",
            "38/38 [==============================] - 4s 107ms/step - loss: 0.0039\n",
            "Epoch 17/100\n",
            "38/38 [==============================] - 4s 106ms/step - loss: 0.0041\n",
            "Epoch 18/100\n",
            "38/38 [==============================] - 4s 107ms/step - loss: 0.0033\n",
            "Epoch 19/100\n",
            "38/38 [==============================] - 4s 107ms/step - loss: 0.0036\n",
            "Epoch 20/100\n",
            "38/38 [==============================] - 4s 110ms/step - loss: 0.0038\n",
            "Epoch 21/100\n",
            "38/38 [==============================] - 4s 110ms/step - loss: 0.0034\n",
            "Epoch 22/100\n",
            "38/38 [==============================] - 4s 108ms/step - loss: 0.0034\n",
            "Epoch 23/100\n",
            "38/38 [==============================] - 4s 111ms/step - loss: 0.0038\n",
            "Epoch 24/100\n",
            "38/38 [==============================] - 4s 114ms/step - loss: 0.0034\n",
            "Epoch 25/100\n",
            "38/38 [==============================] - 4s 111ms/step - loss: 0.0035\n",
            "Epoch 26/100\n",
            "38/38 [==============================] - 4s 111ms/step - loss: 0.0031\n",
            "Epoch 27/100\n",
            "38/38 [==============================] - 4s 108ms/step - loss: 0.0033\n",
            "Epoch 28/100\n",
            "38/38 [==============================] - 4s 109ms/step - loss: 0.0029\n",
            "Epoch 29/100\n",
            "38/38 [==============================] - 4s 110ms/step - loss: 0.0028\n",
            "Epoch 30/100\n",
            "38/38 [==============================] - 4s 110ms/step - loss: 0.0029\n",
            "Epoch 31/100\n",
            "38/38 [==============================] - 4s 116ms/step - loss: 0.0028\n",
            "Epoch 32/100\n",
            "38/38 [==============================] - 4s 118ms/step - loss: 0.0029\n",
            "Epoch 33/100\n",
            "38/38 [==============================] - 4s 112ms/step - loss: 0.0028\n",
            "Epoch 34/100\n",
            "38/38 [==============================] - 4s 110ms/step - loss: 0.0029\n",
            "Epoch 35/100\n",
            "38/38 [==============================] - 4s 108ms/step - loss: 0.0027\n",
            "Epoch 36/100\n",
            "38/38 [==============================] - 4s 108ms/step - loss: 0.0027\n",
            "Epoch 37/100\n",
            "38/38 [==============================] - 4s 110ms/step - loss: 0.0028\n",
            "Epoch 38/100\n",
            "38/38 [==============================] - 4s 108ms/step - loss: 0.0026\n",
            "Epoch 39/100\n",
            "38/38 [==============================] - 4s 111ms/step - loss: 0.0028\n",
            "Epoch 40/100\n",
            "38/38 [==============================] - 4s 107ms/step - loss: 0.0025\n",
            "Epoch 41/100\n",
            "38/38 [==============================] - 4s 108ms/step - loss: 0.0025\n",
            "Epoch 42/100\n",
            "38/38 [==============================] - 4s 112ms/step - loss: 0.0025\n",
            "Epoch 43/100\n",
            "38/38 [==============================] - 4s 110ms/step - loss: 0.0026\n",
            "Epoch 44/100\n",
            "38/38 [==============================] - 4s 108ms/step - loss: 0.0027\n",
            "Epoch 45/100\n",
            "38/38 [==============================] - 4s 108ms/step - loss: 0.0025\n",
            "Epoch 46/100\n",
            "38/38 [==============================] - 4s 110ms/step - loss: 0.0027\n",
            "Epoch 47/100\n",
            "38/38 [==============================] - 4s 109ms/step - loss: 0.0022\n",
            "Epoch 48/100\n",
            "38/38 [==============================] - 4s 112ms/step - loss: 0.0023\n",
            "Epoch 49/100\n",
            "38/38 [==============================] - 4s 112ms/step - loss: 0.0024\n",
            "Epoch 50/100\n",
            "38/38 [==============================] - 4s 108ms/step - loss: 0.0025\n",
            "Epoch 51/100\n",
            "38/38 [==============================] - 4s 112ms/step - loss: 0.0024\n",
            "Epoch 52/100\n",
            "38/38 [==============================] - 4s 111ms/step - loss: 0.0023\n",
            "Epoch 53/100\n",
            "38/38 [==============================] - 4s 109ms/step - loss: 0.0020\n",
            "Epoch 54/100\n",
            "38/38 [==============================] - 4s 108ms/step - loss: 0.0024\n",
            "Epoch 55/100\n",
            "38/38 [==============================] - 4s 115ms/step - loss: 0.0024\n",
            "Epoch 56/100\n",
            "38/38 [==============================] - 4s 113ms/step - loss: 0.0021\n",
            "Epoch 57/100\n",
            "38/38 [==============================] - 4s 115ms/step - loss: 0.0023\n",
            "Epoch 58/100\n",
            "38/38 [==============================] - 4s 110ms/step - loss: 0.0021\n",
            "Epoch 59/100\n",
            "38/38 [==============================] - 4s 108ms/step - loss: 0.0022\n",
            "Epoch 60/100\n",
            "38/38 [==============================] - 4s 108ms/step - loss: 0.0020\n",
            "Epoch 61/100\n",
            "38/38 [==============================] - 4s 112ms/step - loss: 0.0023\n",
            "Epoch 62/100\n",
            "38/38 [==============================] - 4s 111ms/step - loss: 0.0023\n",
            "Epoch 63/100\n",
            "38/38 [==============================] - 4s 112ms/step - loss: 0.0022\n",
            "Epoch 64/100\n",
            "38/38 [==============================] - 4s 115ms/step - loss: 0.0018\n",
            "Epoch 65/100\n",
            "38/38 [==============================] - 4s 115ms/step - loss: 0.0020\n",
            "Epoch 66/100\n",
            "38/38 [==============================] - 4s 113ms/step - loss: 0.0022\n",
            "Epoch 67/100\n",
            "38/38 [==============================] - 4s 109ms/step - loss: 0.0021\n",
            "Epoch 68/100\n",
            "38/38 [==============================] - 4s 106ms/step - loss: 0.0017\n",
            "Epoch 69/100\n",
            "38/38 [==============================] - 4s 109ms/step - loss: 0.0020\n",
            "Epoch 70/100\n",
            "38/38 [==============================] - 4s 111ms/step - loss: 0.0019\n",
            "Epoch 71/100\n",
            "38/38 [==============================] - 4s 108ms/step - loss: 0.0021\n",
            "Epoch 72/100\n",
            "38/38 [==============================] - 4s 108ms/step - loss: 0.0021\n",
            "Epoch 73/100\n",
            "38/38 [==============================] - 4s 111ms/step - loss: 0.0018\n",
            "Epoch 74/100\n",
            "38/38 [==============================] - 4s 110ms/step - loss: 0.0017\n",
            "Epoch 75/100\n",
            "38/38 [==============================] - 4s 112ms/step - loss: 0.0019\n",
            "Epoch 76/100\n",
            "38/38 [==============================] - 4s 116ms/step - loss: 0.0018\n",
            "Epoch 77/100\n",
            "38/38 [==============================] - 4s 113ms/step - loss: 0.0017\n",
            "Epoch 78/100\n",
            "38/38 [==============================] - 4s 108ms/step - loss: 0.0016\n",
            "Epoch 79/100\n",
            "38/38 [==============================] - 4s 107ms/step - loss: 0.0017\n",
            "Epoch 80/100\n",
            "38/38 [==============================] - 4s 110ms/step - loss: 0.0018\n",
            "Epoch 81/100\n",
            "38/38 [==============================] - 4s 109ms/step - loss: 0.0019\n",
            "Epoch 82/100\n",
            "38/38 [==============================] - 4s 110ms/step - loss: 0.0019\n",
            "Epoch 83/100\n",
            "38/38 [==============================] - 4s 112ms/step - loss: 0.0017\n",
            "Epoch 84/100\n",
            "38/38 [==============================] - 4s 111ms/step - loss: 0.0017\n",
            "Epoch 85/100\n",
            "38/38 [==============================] - 4s 113ms/step - loss: 0.0015\n",
            "Epoch 86/100\n",
            "38/38 [==============================] - 4s 109ms/step - loss: 0.0017\n",
            "Epoch 87/100\n",
            "38/38 [==============================] - 4s 109ms/step - loss: 0.0016\n",
            "Epoch 88/100\n",
            "38/38 [==============================] - 4s 113ms/step - loss: 0.0016\n",
            "Epoch 89/100\n",
            "38/38 [==============================] - 4s 114ms/step - loss: 0.0016\n",
            "Epoch 90/100\n",
            "38/38 [==============================] - 4s 109ms/step - loss: 0.0015\n",
            "Epoch 91/100\n",
            "38/38 [==============================] - 4s 109ms/step - loss: 0.0016\n",
            "Epoch 92/100\n",
            "38/38 [==============================] - 4s 108ms/step - loss: 0.0015\n",
            "Epoch 93/100\n",
            "38/38 [==============================] - 4s 109ms/step - loss: 0.0016\n",
            "Epoch 94/100\n",
            "38/38 [==============================] - 4s 109ms/step - loss: 0.0017\n",
            "Epoch 95/100\n",
            "38/38 [==============================] - 4s 110ms/step - loss: 0.0016\n",
            "Epoch 96/100\n",
            "38/38 [==============================] - 4s 112ms/step - loss: 0.0016\n",
            "Epoch 97/100\n",
            "38/38 [==============================] - 4s 108ms/step - loss: 0.0016\n",
            "Epoch 98/100\n",
            "38/38 [==============================] - 4s 112ms/step - loss: 0.0015\n",
            "Epoch 99/100\n",
            "38/38 [==============================] - 4s 110ms/step - loss: 0.0016\n",
            "Epoch 100/100\n",
            "38/38 [==============================] - 4s 108ms/step - loss: 0.0014\n"
          ],
          "name": "stdout"
        },
        {
          "output_type": "execute_result",
          "data": {
            "text/plain": [
              "<tensorflow.python.keras.callbacks.History at 0x7f091575afd0>"
            ]
          },
          "metadata": {
            "tags": []
          },
          "execution_count": 73
        }
      ]
    },
    {
      "cell_type": "code",
      "metadata": {
        "id": "85Kh1IWJDCqd"
      },
      "source": [
        "#Making the predictions and visualising the results\n",
        "dataset_test = pd.read_csv('Google_Stock_Price_Test.csv')\n",
        "real_stock_price = dataset_test.iloc[:, 1:2].values"
      ],
      "execution_count": 75,
      "outputs": []
    },
    {
      "cell_type": "code",
      "metadata": {
        "id": "-j4cvtjCDTrQ"
      },
      "source": [
        "dataset_total = pd.concat((dataset_train['Open'], dataset_test['Open']), axis = 0)\n",
        "inputs = dataset_total[len(dataset_total) - len(dataset_test) - 60:].values\n",
        "inputs = inputs.reshape(-1,1)\n",
        "inputs = sc.transform(inputs)"
      ],
      "execution_count": 76,
      "outputs": []
    },
    {
      "cell_type": "code",
      "metadata": {
        "id": "Y6dwQ_vWDa1L"
      },
      "source": [
        "X_test = []\n",
        "for i in range(60, 80):\n",
        "    X_test.append(inputs[i-60:i, 0])\n",
        "X_test = np.array(X_test)\n",
        "X_test = np.reshape(X_test, (X_test.shape[0], X_test.shape[1], 1))"
      ],
      "execution_count": 77,
      "outputs": []
    },
    {
      "cell_type": "code",
      "metadata": {
        "id": "WrTMcUuWDe1t"
      },
      "source": [
        "predicted_stock_price = regressor.predict(X_test)\n",
        "predicted_stock_price = sc.inverse_transform(predicted_stock_price)"
      ],
      "execution_count": null,
      "outputs": []
    },
    {
      "cell_type": "code",
      "metadata": {
        "id": "pqUcddBcDlT8",
        "outputId": "cabc3049-2b21-4af0-8164-c3ecfe19eb85",
        "colab": {
          "base_uri": "https://localhost:8080/",
          "height": 295
        }
      },
      "source": [
        "# Visualising the results\n",
        "plt.plot(real_stock_price, color = 'red', label = 'Real Google Stock Price')\n",
        "plt.plot(predicted_stock_price, color = 'blue', label = 'Predicted Google Stock Price')\n",
        "plt.title('Google Stock Price Prediction')\n",
        "plt.xlabel('Time')\n",
        "plt.ylabel('Google Stock Price')\n",
        "plt.legend()\n",
        "plt.show()"
      ],
      "execution_count": 81,
      "outputs": [
        {
          "output_type": "display_data",
          "data": {
            "image/png": "[encoded data removed]",
            "text/plain": [
              "<Figure size 432x288 with 1 Axes>"
            ]
          },
          "metadata": {
            "tags": [],
            "needs_background": "light"
          }
        }
      ]
    },
    {
      "cell_type": "code",
      "metadata": {
        "id": "By0imhn0KZuv"
      },
      "source": [
        "model = Sequential()"
      ],
      "execution_count": 87,
      "outputs": []
    },
    {
      "cell_type": "code",
      "metadata": {
        "id": "K1s7LrjQKg1o"
      },
      "source": [
        "model.add(SimpleRNN(units = 50,activation='tanh', return_sequences = True, input_shape = (X_train.shape[1], 1)))\n",
        "model.add(Dropout(0.2))"
      ],
      "execution_count": 88,
      "outputs": []
    },
    {
      "cell_type": "code",
      "metadata": {
        "id": "_j8Y6NP1KnDc"
      },
      "source": [
        "model.add(SimpleRNN(units = 50,activation='tanh', return_sequences = True))\n",
        "model.add(Dropout(0.2))"
      ],
      "execution_count": 89,
      "outputs": []
    },
    {
      "cell_type": "code",
      "metadata": {
        "id": "HqDfRn2yKqxJ"
      },
      "source": [
        "model.add(SimpleRNN(units = 50,activation='tanh', return_sequences = True))\n",
        "model.add(Dropout(0.2))"
      ],
      "execution_count": 90,
      "outputs": []
    },
    {
      "cell_type": "code",
      "metadata": {
        "id": "HxAX9FmpKt9e"
      },
      "source": [
        "model.add(SimpleRNN(units = 50))\n",
        "model.add(Dropout(0.2))"
      ],
      "execution_count": 91,
      "outputs": []
    },
    {
      "cell_type": "code",
      "metadata": {
        "id": "8kFPEcEuKzNj"
      },
      "source": [
        "model.add(Dense(units = 1))"
      ],
      "execution_count": 92,
      "outputs": []
    },
    {
      "cell_type": "code",
      "metadata": {
        "id": "5K7nGrMJK4va",
        "outputId": "40ce52b1-db99-450d-99d6-bd2cbafd9e6a",
        "colab": {
          "base_uri": "https://localhost:8080/",
          "height": 1000
        }
      },
      "source": [
        "model.compile(optimizer = 'adam', loss = 'mean_squared_error')\n",
        "model.fit(X_train, y_train, epochs = 100, batch_size = 32)"
      ],
      "execution_count": 95,
      "outputs": [
        {
          "output_type": "stream",
          "text": [
            "Epoch 1/100\n",
            "38/38 [==============================] - 2s 48ms/step - loss: 0.6266\n",
            "Epoch 2/100\n",
            "38/38 [==============================] - 2s 46ms/step - loss: 0.3594\n",
            "Epoch 3/100\n",
            "38/38 [==============================] - 2s 45ms/step - loss: 0.2791\n",
            "Epoch 4/100\n",
            "38/38 [==============================] - 2s 46ms/step - loss: 0.2433\n",
            "Epoch 5/100\n",
            "38/38 [==============================] - 2s 45ms/step - loss: 0.1904\n",
            "Epoch 6/100\n",
            "38/38 [==============================] - 2s 46ms/step - loss: 0.1764\n",
            "Epoch 7/100\n",
            "38/38 [==============================] - 2s 48ms/step - loss: 0.1318\n",
            "Epoch 8/100\n",
            "38/38 [==============================] - 2s 45ms/step - loss: 0.1215\n",
            "Epoch 9/100\n",
            "38/38 [==============================] - 2s 46ms/step - loss: 0.1005\n",
            "Epoch 10/100\n",
            "38/38 [==============================] - 2s 47ms/step - loss: 0.0900\n",
            "Epoch 11/100\n",
            "38/38 [==============================] - 2s 45ms/step - loss: 0.0774\n",
            "Epoch 12/100\n",
            "38/38 [==============================] - 2s 45ms/step - loss: 0.0760\n",
            "Epoch 13/100\n",
            "38/38 [==============================] - 2s 46ms/step - loss: 0.0626\n",
            "Epoch 14/100\n",
            "38/38 [==============================] - 2s 50ms/step - loss: 0.0532\n",
            "Epoch 15/100\n",
            "38/38 [==============================] - 2s 48ms/step - loss: 0.0499\n",
            "Epoch 16/100\n",
            "38/38 [==============================] - 2s 46ms/step - loss: 0.0475\n",
            "Epoch 17/100\n",
            "38/38 [==============================] - 2s 45ms/step - loss: 0.0430\n",
            "Epoch 18/100\n",
            "38/38 [==============================] - 2s 45ms/step - loss: 0.0324\n",
            "Epoch 19/100\n",
            "38/38 [==============================] - 2s 45ms/step - loss: 0.0326\n",
            "Epoch 20/100\n",
            "38/38 [==============================] - 2s 50ms/step - loss: 0.0301\n",
            "Epoch 21/100\n",
            "38/38 [==============================] - 2s 46ms/step - loss: 0.0286\n",
            "Epoch 22/100\n",
            "38/38 [==============================] - 2s 47ms/step - loss: 0.0284\n",
            "Epoch 23/100\n",
            "38/38 [==============================] - 2s 47ms/step - loss: 0.0252\n",
            "Epoch 24/100\n",
            "38/38 [==============================] - 2s 48ms/step - loss: 0.0217\n",
            "Epoch 25/100\n",
            "38/38 [==============================] - 2s 46ms/step - loss: 0.0220\n",
            "Epoch 26/100\n",
            "38/38 [==============================] - 2s 46ms/step - loss: 0.0198\n",
            "Epoch 27/100\n",
            "38/38 [==============================] - 2s 45ms/step - loss: 0.0196\n",
            "Epoch 28/100\n",
            "38/38 [==============================] - 2s 46ms/step - loss: 0.0167\n",
            "Epoch 29/100\n",
            "38/38 [==============================] - 2s 46ms/step - loss: 0.0161\n",
            "Epoch 30/100\n",
            "38/38 [==============================] - 2s 46ms/step - loss: 0.0144\n",
            "Epoch 31/100\n",
            "38/38 [==============================] - 2s 48ms/step - loss: 0.0139\n",
            "Epoch 32/100\n",
            "38/38 [==============================] - 2s 46ms/step - loss: 0.0147\n",
            "Epoch 33/100\n",
            "38/38 [==============================] - 2s 48ms/step - loss: 0.0129\n",
            "Epoch 34/100\n",
            "38/38 [==============================] - 2s 46ms/step - loss: 0.0126\n",
            "Epoch 35/100\n",
            "38/38 [==============================] - 2s 46ms/step - loss: 0.0118\n",
            "Epoch 36/100\n",
            "38/38 [==============================] - 2s 46ms/step - loss: 0.0107\n",
            "Epoch 37/100\n",
            "38/38 [==============================] - 2s 47ms/step - loss: 0.0105\n",
            "Epoch 38/100\n",
            "38/38 [==============================] - 2s 46ms/step - loss: 0.0104\n",
            "Epoch 39/100\n",
            "38/38 [==============================] - 2s 46ms/step - loss: 0.0101\n",
            "Epoch 40/100\n",
            "38/38 [==============================] - 2s 47ms/step - loss: 0.0094\n",
            "Epoch 41/100\n",
            "38/38 [==============================] - 2s 46ms/step - loss: 0.0086\n",
            "Epoch 42/100\n",
            "38/38 [==============================] - 2s 47ms/step - loss: 0.0084\n",
            "Epoch 43/100\n",
            "38/38 [==============================] - 2s 46ms/step - loss: 0.0087\n",
            "Epoch 44/100\n",
            "38/38 [==============================] - 2s 46ms/step - loss: 0.0078\n",
            "Epoch 45/100\n",
            "38/38 [==============================] - 2s 47ms/step - loss: 0.0078\n",
            "Epoch 46/100\n",
            "38/38 [==============================] - 2s 46ms/step - loss: 0.0073\n",
            "Epoch 47/100\n",
            "38/38 [==============================] - 2s 46ms/step - loss: 0.0081\n",
            "Epoch 48/100\n",
            "38/38 [==============================] - 2s 47ms/step - loss: 0.0070\n",
            "Epoch 49/100\n",
            "38/38 [==============================] - 2s 48ms/step - loss: 0.0073\n",
            "Epoch 50/100\n",
            "38/38 [==============================] - 2s 47ms/step - loss: 0.0071\n",
            "Epoch 51/100\n",
            "38/38 [==============================] - 2s 48ms/step - loss: 0.0067\n",
            "Epoch 52/100\n",
            "38/38 [==============================] - 2s 46ms/step - loss: 0.0064\n",
            "Epoch 53/100\n",
            "38/38 [==============================] - 2s 46ms/step - loss: 0.0066\n",
            "Epoch 54/100\n",
            "38/38 [==============================] - 2s 47ms/step - loss: 0.0060\n",
            "Epoch 55/100\n",
            "38/38 [==============================] - 2s 45ms/step - loss: 0.0064\n",
            "Epoch 56/100\n",
            "38/38 [==============================] - 2s 45ms/step - loss: 0.0055\n",
            "Epoch 57/100\n",
            "38/38 [==============================] - 2s 46ms/step - loss: 0.0054\n",
            "Epoch 58/100\n",
            "38/38 [==============================] - 2s 46ms/step - loss: 0.0060\n",
            "Epoch 59/100\n",
            "38/38 [==============================] - 2s 46ms/step - loss: 0.0051\n",
            "Epoch 60/100\n",
            "38/38 [==============================] - 2s 45ms/step - loss: 0.0045\n",
            "Epoch 61/100\n",
            "38/38 [==============================] - 2s 45ms/step - loss: 0.0048\n",
            "Epoch 62/100\n",
            "38/38 [==============================] - 2s 46ms/step - loss: 0.0050\n",
            "Epoch 63/100\n",
            "38/38 [==============================] - 2s 46ms/step - loss: 0.0046\n",
            "Epoch 64/100\n",
            "38/38 [==============================] - 2s 46ms/step - loss: 0.0045\n",
            "Epoch 65/100\n",
            "38/38 [==============================] - 2s 47ms/step - loss: 0.0046\n",
            "Epoch 66/100\n",
            "38/38 [==============================] - 2s 47ms/step - loss: 0.0046\n",
            "Epoch 67/100\n",
            "38/38 [==============================] - 2s 45ms/step - loss: 0.0046\n",
            "Epoch 68/100\n",
            "38/38 [==============================] - 2s 45ms/step - loss: 0.0042\n",
            "Epoch 69/100\n",
            "38/38 [==============================] - 2s 46ms/step - loss: 0.0039\n",
            "Epoch 70/100\n",
            "38/38 [==============================] - 2s 46ms/step - loss: 0.0039\n",
            "Epoch 71/100\n",
            "38/38 [==============================] - 2s 45ms/step - loss: 0.0039\n",
            "Epoch 72/100\n",
            "38/38 [==============================] - 2s 48ms/step - loss: 0.0042\n",
            "Epoch 73/100\n",
            "38/38 [==============================] - 2s 46ms/step - loss: 0.0039\n",
            "Epoch 74/100\n",
            "38/38 [==============================] - 2s 44ms/step - loss: 0.0038\n",
            "Epoch 75/100\n",
            "38/38 [==============================] - 2s 45ms/step - loss: 0.0035\n",
            "Epoch 76/100\n",
            "38/38 [==============================] - 2s 47ms/step - loss: 0.0034\n",
            "Epoch 77/100\n",
            "38/38 [==============================] - 2s 45ms/step - loss: 0.0036\n",
            "Epoch 78/100\n",
            "38/38 [==============================] - 2s 46ms/step - loss: 0.0034\n",
            "Epoch 79/100\n",
            "38/38 [==============================] - 2s 45ms/step - loss: 0.0030\n",
            "Epoch 80/100\n",
            "38/38 [==============================] - 2s 46ms/step - loss: 0.0032\n",
            "Epoch 81/100\n",
            "38/38 [==============================] - 2s 46ms/step - loss: 0.0029\n",
            "Epoch 82/100\n",
            "38/38 [==============================] - 2s 47ms/step - loss: 0.0030\n",
            "Epoch 83/100\n",
            "38/38 [==============================] - 2s 49ms/step - loss: 0.0032\n",
            "Epoch 84/100\n",
            "38/38 [==============================] - 2s 47ms/step - loss: 0.0029\n",
            "Epoch 85/100\n",
            "38/38 [==============================] - 2s 45ms/step - loss: 0.0031\n",
            "Epoch 86/100\n",
            "38/38 [==============================] - 2s 45ms/step - loss: 0.0028\n",
            "Epoch 87/100\n",
            "38/38 [==============================] - 2s 45ms/step - loss: 0.0031\n",
            "Epoch 88/100\n",
            "38/38 [==============================] - 2s 48ms/step - loss: 0.0030\n",
            "Epoch 89/100\n",
            "38/38 [==============================] - 2s 45ms/step - loss: 0.0028\n",
            "Epoch 90/100\n",
            "38/38 [==============================] - 2s 45ms/step - loss: 0.0028\n",
            "Epoch 91/100\n",
            "38/38 [==============================] - 2s 46ms/step - loss: 0.0027\n",
            "Epoch 92/100\n",
            "38/38 [==============================] - 2s 46ms/step - loss: 0.0026\n",
            "Epoch 93/100\n",
            "38/38 [==============================] - 2s 46ms/step - loss: 0.0027\n",
            "Epoch 94/100\n",
            "38/38 [==============================] - 2s 47ms/step - loss: 0.0029\n",
            "Epoch 95/100\n",
            "38/38 [==============================] - 2s 49ms/step - loss: 0.0029\n",
            "Epoch 96/100\n",
            "38/38 [==============================] - 2s 46ms/step - loss: 0.0026\n",
            "Epoch 97/100\n",
            "38/38 [==============================] - 2s 46ms/step - loss: 0.0026\n",
            "Epoch 98/100\n",
            "38/38 [==============================] - 2s 47ms/step - loss: 0.0022\n",
            "Epoch 99/100\n",
            "38/38 [==============================] - 2s 46ms/step - loss: 0.0024\n",
            "Epoch 100/100\n",
            "38/38 [==============================] - 2s 46ms/step - loss: 0.0024\n"
          ],
          "name": "stdout"
        },
        {
          "output_type": "execute_result",
          "data": {
            "text/plain": [
              "<tensorflow.python.keras.callbacks.History at 0x7f091134c5f8>"
            ]
          },
          "metadata": {
            "tags": []
          },
          "execution_count": 95
        }
      ]
    },
    {
      "cell_type": "code",
      "metadata": {
        "id": "We7h1XICLNm7"
      },
      "source": [
        "predicted_data = model.predict(X_test)\n",
        "predicted_data = sc.inverse_transform(predicted_data)"
      ],
      "execution_count": 100,
      "outputs": []
    },
    {
      "cell_type": "code",
      "metadata": {
        "id": "uF7vzfXNRd07",
        "outputId": "20425394-1f2a-4745-b597-0b3f4fceeea8",
        "colab": {
          "base_uri": "https://localhost:8080/",
          "height": 295
        }
      },
      "source": [
        "# Visualising the results\n",
        "plt.plot(real_stock_price, color = 'red', label = 'Real Google Stock Price')\n",
        "plt.plot(predicted_data, color = 'blue', label = 'Predicted Google Stock Price')\n",
        "plt.title('Google Stock Price Prediction')\n",
        "plt.xlabel('Time')\n",
        "plt.ylabel('Google Stock Price')\n",
        "plt.legend()\n",
        "plt.show()"
      ],
      "execution_count": 110,
      "outputs": [
        {
          "output_type": "display_data",
          "data": {
            "image/png": "[encoded data removed]",
            "text/plain": [
              "<Figure size 432x288 with 1 Axes>"
            ]
          },
          "metadata": {
            "tags": [],
            "needs_background": "light"
          }
        }
      ]
    }
  ]
}